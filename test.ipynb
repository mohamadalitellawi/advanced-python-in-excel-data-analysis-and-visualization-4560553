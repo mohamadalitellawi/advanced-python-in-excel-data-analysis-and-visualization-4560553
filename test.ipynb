{
 "cells": [
  {
   "cell_type": "code",
   "execution_count": 6,
   "metadata": {},
   "outputs": [],
   "source": [
    "import pandas as pd\n",
    "filename = r'Chapter 1\\01_02_start.xlsx'\n",
    "data = pd.read_excel(filename)"
   ]
  },
  {
   "cell_type": "code",
   "execution_count": 14,
   "metadata": {},
   "outputs": [
    {
     "data": {
      "text/plain": [
       "(45922, 24)"
      ]
     },
     "metadata": {},
     "output_type": "display_data"
    },
    {
     "data": {
      "text/plain": [
       "DR_NO              0.000000\n",
       "Date Rptd          0.000000\n",
       "DATE OCC           0.000000\n",
       "TIME OCC           0.000000\n",
       "AREA NAME          0.000000\n",
       "Rpt Dist No        0.000000\n",
       "Part 1-2           0.000000\n",
       "Crm Cd             0.000000\n",
       "New Desc           0.000000\n",
       "Mocodes           13.949741\n",
       "Vict Sex          13.279038\n",
       "Premis Cd          0.000000\n",
       "Premis Desc        0.058795\n",
       "Weapon Used Cd    65.088629\n",
       "Status             0.000000\n",
       "Status Desc        0.000000\n",
       "Crm Cd 1           0.000000\n",
       "Crm Cd 2          92.792126\n",
       "Crm Cd 3          99.758286\n",
       "Crm Cd 4          99.997822\n",
       "LOCATION           0.000000\n",
       "Cross Street      83.855233\n",
       "LAT                0.000000\n",
       "LON                0.000000\n",
       "dtype: float64"
      ]
     },
     "execution_count": 14,
     "metadata": {},
     "output_type": "execute_result"
    }
   ],
   "source": [
    "display(data.shape)\n",
    "len(data)\n",
    "data.isnull().sum()/len(data) * 100"
   ]
  },
  {
   "cell_type": "code",
   "execution_count": 17,
   "metadata": {},
   "outputs": [
    {
     "data": {
      "text/plain": [
       "(45922, 17)"
      ]
     },
     "execution_count": 17,
     "metadata": {},
     "output_type": "execute_result"
    }
   ],
   "source": [
    "\n",
    "\n",
    "data.columns\n",
    "preserved_columns = ['DR_NO', 'Date Rptd', 'DATE OCC', 'TIME OCC', 'AREA NAME',\n",
    "       'Rpt Dist No', 'Part 1-2', 'Crm Cd', 'New Desc',\n",
    "       'Premis Cd', 'Status', 'Status Desc',\n",
    "       'Crm Cd 1',  'LOCATION',\n",
    "       'Cross Street', 'LAT', 'LON']\n",
    "\n",
    "def clean (input_df):\n",
    "    # select required columns\n",
    "    df = input_df[preserved_columns].copy()\n",
    "    return df\n",
    "clean(data).shape\n"
   ]
  }
 ],
 "metadata": {
  "kernelspec": {
   "display_name": "Python 3 (pfse)",
   "language": "python",
   "name": "pfse"
  },
  "language_info": {
   "codemirror_mode": {
    "name": "ipython",
    "version": 3
   },
   "file_extension": ".py",
   "mimetype": "text/x-python",
   "name": "python",
   "nbconvert_exporter": "python",
   "pygments_lexer": "ipython3",
   "version": "3.12.8"
  }
 },
 "nbformat": 4,
 "nbformat_minor": 2
}

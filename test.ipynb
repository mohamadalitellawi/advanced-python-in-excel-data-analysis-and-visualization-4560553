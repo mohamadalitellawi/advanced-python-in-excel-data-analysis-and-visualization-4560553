{
 "cells": [
  {
   "cell_type": "markdown",
   "metadata": {},
   "source": [
    "This version includes type annotations for variables and simplifies the code for readability."
   ]
  },
  {
   "cell_type": "code",
   "execution_count": 48,
   "metadata": {},
   "outputs": [
    {
     "data": {
      "text/plain": [
       "(45922, 24)"
      ]
     },
     "metadata": {},
     "output_type": "display_data"
    },
    {
     "data": {
      "text/plain": [
       "Index(['DR_NO', 'Date Rptd', 'DATE OCC', 'TIME OCC', 'AREA NAME',\n",
       "       'Rpt Dist No', 'Part 1-2', 'Crm Cd', 'New Desc', 'Mocodes', 'Vict Sex',\n",
       "       'Premis Cd', 'Premis Desc', 'Weapon Used Cd', 'Status', 'Status Desc',\n",
       "       'Crm Cd 1', 'Crm Cd 2', 'Crm Cd 3', 'Crm Cd 4', 'LOCATION',\n",
       "       'Cross Street', 'LAT', 'LON'],\n",
       "      dtype='object')"
      ]
     },
     "metadata": {},
     "output_type": "display_data"
    },
    {
     "data": {
      "text/plain": [
       "DR_NO              0.000000\n",
       "Date Rptd          0.000000\n",
       "DATE OCC           0.000000\n",
       "TIME OCC           0.000000\n",
       "AREA NAME          0.000000\n",
       "Rpt Dist No        0.000000\n",
       "Part 1-2           0.000000\n",
       "Crm Cd             0.000000\n",
       "New Desc           0.000000\n",
       "Mocodes           13.949741\n",
       "Vict Sex          13.279038\n",
       "Premis Cd          0.000000\n",
       "Premis Desc        0.058795\n",
       "Weapon Used Cd    65.088629\n",
       "Status             0.000000\n",
       "Status Desc        0.000000\n",
       "Crm Cd 1           0.000000\n",
       "Crm Cd 2          92.792126\n",
       "Crm Cd 3          99.758286\n",
       "Crm Cd 4          99.997822\n",
       "LOCATION           0.000000\n",
       "Cross Street      83.855233\n",
       "LAT                0.000000\n",
       "LON                0.000000\n",
       "dtype: float64"
      ]
     },
     "metadata": {},
     "output_type": "display_data"
    }
   ],
   "source": [
    "import pandas as pd\n",
    "\n",
    "# Load the data\n",
    "filename: str = r'Chapter 1\\\\01_02_start.xlsx'\n",
    "data: pd.DataFrame = pd.read_excel(filename)\n",
    "\n",
    "# Display the shape of the data\n",
    "display(data.shape)\n",
    "display(data.columns)\n",
    "\n",
    "\n",
    "'''\n",
    "calculates the percentage of missing values in each column of the DataFrame data. \n",
    "It provides a quick way to understand the extent of missing data in each column.\n",
    "'''\n",
    "display(data.isnull().sum()/len(data) * 100)"
   ]
  },
  {
   "cell_type": "code",
   "execution_count": 49,
   "metadata": {},
   "outputs": [
    {
     "data": {
      "text/plain": [
       "(45922, 18)"
      ]
     },
     "metadata": {},
     "output_type": "display_data"
    },
    {
     "data": {
      "text/plain": [
       "Timestamp('2024-03-10 00:00:00')"
      ]
     },
     "metadata": {},
     "output_type": "display_data"
    }
   ],
   "source": [
    "# Define the columns to preserve\n",
    "preserved_columns: list[str] = [\n",
    "    'DR_NO', 'Date Rptd', 'DATE OCC', 'TIME OCC', 'AREA NAME',\n",
    "    'Rpt Dist No', 'Part 1-2', 'Crm Cd', 'New Desc',\n",
    "    'Premis Cd', 'Status', 'Status Desc',\n",
    "    'Crm Cd 1', 'LOCATION', 'Cross Street', 'LAT', 'LON'\n",
    "]\n",
    "\n",
    "# Define the cleaning function\n",
    "def clean(input_df: pd.DataFrame) -> pd.DataFrame:\n",
    "    df: pd.DataFrame = input_df[preserved_columns].copy()\n",
    "    df['Date Rptd'] = pd.to_datetime(df['Date Rptd'], format='%m/%d/%Y %I:%M:%S %p')\n",
    "    df['Year'] = df['Date Rptd'].dt.year\n",
    "    return df\n",
    "\n",
    "# Clean the data and display the 'Date Rptd' column\n",
    "cleaned_data: pd.DataFrame = clean(data)\n",
    "display(cleaned_data.shape)\n",
    "display(cleaned_data['Date Rptd'][0])\n"
   ]
  },
  {
   "cell_type": "markdown",
   "metadata": {},
   "source": [
    "## LA Data Trends"
   ]
  },
  {
   "cell_type": "code",
   "execution_count": 50,
   "metadata": {},
   "outputs": [
    {
     "data": {
      "text/html": [
       "<div>\n",
       "<style scoped>\n",
       "    .dataframe tbody tr th:only-of-type {\n",
       "        vertical-align: middle;\n",
       "    }\n",
       "\n",
       "    .dataframe tbody tr th {\n",
       "        vertical-align: top;\n",
       "    }\n",
       "\n",
       "    .dataframe thead th {\n",
       "        text-align: right;\n",
       "    }\n",
       "</style>\n",
       "<table border=\"1\" class=\"dataframe\">\n",
       "  <thead>\n",
       "    <tr style=\"text-align: right;\">\n",
       "      <th></th>\n",
       "      <th>Year</th>\n",
       "      <th>DR_NO</th>\n",
       "    </tr>\n",
       "  </thead>\n",
       "  <tbody>\n",
       "    <tr>\n",
       "      <th>0</th>\n",
       "      <td>2020</td>\n",
       "      <td>9605</td>\n",
       "    </tr>\n",
       "    <tr>\n",
       "      <th>1</th>\n",
       "      <td>2021</td>\n",
       "      <td>10637</td>\n",
       "    </tr>\n",
       "    <tr>\n",
       "      <th>2</th>\n",
       "      <td>2022</td>\n",
       "      <td>11653</td>\n",
       "    </tr>\n",
       "    <tr>\n",
       "      <th>3</th>\n",
       "      <td>2023</td>\n",
       "      <td>11672</td>\n",
       "    </tr>\n",
       "  </tbody>\n",
       "</table>\n",
       "</div>"
      ],
      "text/plain": [
       "   Year  DR_NO\n",
       "0  2020   9605\n",
       "1  2021  10637\n",
       "2  2022  11653\n",
       "3  2023  11672"
      ]
     },
     "execution_count": 50,
     "metadata": {},
     "output_type": "execute_result"
    }
   ],
   "source": [
    "\n",
    "time_series_year = cleaned_data[cleaned_data['Year'] < 2024].groupby('Year')['DR_NO'].nunique().reset_index()\n",
    "time_series_year"
   ]
  }
 ],
 "metadata": {
  "kernelspec": {
   "display_name": "Python 3 (pfse)",
   "language": "python",
   "name": "pfse"
  },
  "language_info": {
   "codemirror_mode": {
    "name": "ipython",
    "version": 3
   },
   "file_extension": ".py",
   "mimetype": "text/x-python",
   "name": "python",
   "nbconvert_exporter": "python",
   "pygments_lexer": "ipython3",
   "version": "3.13.1"
  }
 },
 "nbformat": 4,
 "nbformat_minor": 2
}

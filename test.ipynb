{
 "cells": [
  {
   "cell_type": "code",
   "execution_count": 18,
   "metadata": {},
   "outputs": [],
   "source": [
    "import pandas as pd\n",
    "filename = r'Chapter 1\\01_02_start.xlsx'\n",
    "data = pd.read_excel(filename)"
   ]
  },
  {
   "cell_type": "code",
   "execution_count": 20,
   "metadata": {},
   "outputs": [
    {
     "data": {
      "text/plain": [
       "(45922, 24)"
      ]
     },
     "metadata": {},
     "output_type": "display_data"
    },
    {
     "data": {
      "text/plain": [
       "pandas.core.frame.DataFrame"
      ]
     },
     "execution_count": 20,
     "metadata": {},
     "output_type": "execute_result"
    }
   ],
   "source": [
    "display(data.shape)\n",
    "len(data)\n",
    "data.isnull().sum()/len(data) * 100\n",
    "type(data)"
   ]
  },
  {
   "cell_type": "code",
   "execution_count": 26,
   "metadata": {},
   "outputs": [
    {
     "name": "stderr",
     "output_type": "stream",
     "text": [
      "C:\\Users\\m.ali\\AppData\\Local\\Temp\\ipykernel_34556\\2647155227.py:13: UserWarning: Could not infer format, so each element will be parsed individually, falling back to `dateutil`. To ensure parsing is consistent and as-expected, please specify a format.\n",
      "  df['Date Rptd'] = pd.to_datetime(df['Date Rptd']).dt.date\n"
     ]
    },
    {
     "data": {
      "text/plain": [
       "datetime.date"
      ]
     },
     "execution_count": 26,
     "metadata": {},
     "output_type": "execute_result"
    }
   ],
   "source": [
    "\n",
    "\n",
    "data.columns\n",
    "preserved_columns = ['DR_NO', 'Date Rptd', 'DATE OCC', 'TIME OCC', 'AREA NAME',\n",
    "       'Rpt Dist No', 'Part 1-2', 'Crm Cd', 'New Desc',\n",
    "       'Premis Cd', 'Status', 'Status Desc',\n",
    "       'Crm Cd 1',  'LOCATION',\n",
    "       'Cross Street', 'LAT', 'LON']\n",
    "\n",
    "def clean (input_df):\n",
    "    # select required columns\n",
    "    df:pd.DataFrame = input_df[preserved_columns].copy()\n",
    "\n",
    "    # convert 'Date Rptd' column to datetime\n",
    "    df['Date Rptd'] = pd.to_datetime(df['Date Rptd']).dt.date\n",
    "    return df\n",
    "type(clean(data)['Date Rptd'][0])\n"
   ]
  }
 ],
 "metadata": {
  "kernelspec": {
   "display_name": "Python 3 (pfse)",
   "language": "python",
   "name": "pfse"
  },
  "language_info": {
   "codemirror_mode": {
    "name": "ipython",
    "version": 3
   },
   "file_extension": ".py",
   "mimetype": "text/x-python",
   "name": "python",
   "nbconvert_exporter": "python",
   "pygments_lexer": "ipython3",
   "version": "3.12.8"
  }
 },
 "nbformat": 4,
 "nbformat_minor": 2
}
